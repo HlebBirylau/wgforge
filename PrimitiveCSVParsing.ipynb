{
 "cells": [
  {
   "cell_type": "code",
   "execution_count": 2,
   "metadata": {
    "collapsed": false
   },
   "outputs": [
    {
     "name": "stdout",
     "output_type": "stream",
     "text": [
      "0\n",
      "no\n",
      "no\n",
      "yes\n",
      "yes\n",
      "no\n",
      "yes\n",
      "no\n",
      "no\n",
      "no\n",
      "no\n",
      "no\n",
      "no\n",
      "no\n",
      "no\n",
      "no\n",
      "no\n",
      "no\n",
      "yes\n",
      "no\n"
     ]
    }
   ],
   "source": [
    "import csv \n",
    "\n",
    "with open('train.csv') as csvfile:\n",
    "    readCSV = csv.reader(csvfile, delimiter=',')\n",
    "    isactions = [ ]\n",
    "    \n",
    "    \n",
    "    for row in readCSV:\n",
    "        \n",
    "        isaction = row[7]\n",
    "        \n",
    "        isactions.append(isaction)\n",
    "        \n",
    "    print(isactions[1])\n",
    "    for x in range(1, 20):\n",
    "        if (int(isactions[x]) == 1):\n",
    "            print('yes')\n",
    "        else: \n",
    "            print('no')\n",
    "        \n",
    "    \n",
    "with open('test.csv', 'w', newline='') as csvfile:\n",
    "    writeCSV = csv.writer(csvfile, delimiter=',')\n",
    "    for x in range(1,len(isactions)):\n",
    "        writeCSV.writerow([\"you're all faggots\"])\n",
    "    \n",
    "    "
   ]
  },
  {
   "cell_type": "code",
   "execution_count": null,
   "metadata": {
    "collapsed": true
   },
   "outputs": [],
   "source": []
  },
  {
   "cell_type": "code",
   "execution_count": null,
   "metadata": {
    "collapsed": true
   },
   "outputs": [],
   "source": []
  }
 ],
 "metadata": {
  "kernelspec": {
   "display_name": "Python 3",
   "language": "python",
   "name": "python3"
  },
  "language_info": {
   "codemirror_mode": {
    "name": "ipython",
    "version": 3
   },
   "file_extension": ".py",
   "mimetype": "text/x-python",
   "name": "python",
   "nbconvert_exporter": "python",
   "pygments_lexer": "ipython3",
   "version": "3.6.0"
  }
 },
 "nbformat": 4,
 "nbformat_minor": 2
}
