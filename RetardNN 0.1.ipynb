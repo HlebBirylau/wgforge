{
 "cells": [
  {
   "cell_type": "code",
   "execution_count": 2,
   "metadata": {
    "collapsed": false
   },
   "outputs": [
    {
     "name": "stdout",
     "output_type": "stream",
     "text": [
      "[ 0.61167299]\n"
     ]
    }
   ],
   "source": [
    "import numpy as np\n",
    "\n",
    "def nonlin(x,deriv=False):\n",
    "    if(deriv==True):\n",
    "        return x*(1-x)\n",
    "    return 1/(1+np.exp(-x))\n",
    "\n",
    "X = [1, 1, 1, 0, 1, 0, 1, 0, 1]\n",
    "Y = 0.45435\n",
    "\n",
    "syn0 = 2*np.random.random((9,1)) - 1\n",
    "\n",
    "\n",
    "for iter in range(10000):\n",
    "    l0=X\n",
    "    l1 = nonlin(np.dot(l0, syn0))\n",
    "    \n",
    "    l1error = Y - l1\n",
    "    l1delta = l1error * nonlin(l1, True)\n",
    "    \n",
    "    syn0 += l1delta\n",
    "    \n",
    "    print(syn0)\n",
    "print(l1)"
   ]
  },
  {
   "cell_type": "code",
   "execution_count": null,
   "metadata": {
    "collapsed": true
   },
   "outputs": [],
   "source": []
  }
 ],
 "metadata": {
  "kernelspec": {
   "display_name": "Python 3",
   "language": "python",
   "name": "python3"
  },
  "language_info": {
   "codemirror_mode": {
    "name": "ipython",
    "version": 3
   },
   "file_extension": ".py",
   "mimetype": "text/x-python",
   "name": "python",
   "nbconvert_exporter": "python",
   "pygments_lexer": "ipython3",
   "version": "3.6.0"
  }
 },
 "nbformat": 4,
 "nbformat_minor": 2
}
